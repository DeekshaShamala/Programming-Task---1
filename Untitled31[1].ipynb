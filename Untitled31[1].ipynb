{
  "nbformat": 4,
  "nbformat_minor": 0,
  "metadata": {
    "colab": {
      "provenance": []
    },
    "kernelspec": {
      "name": "python3",
      "display_name": "Python 3"
    },
    "language_info": {
      "name": "python"
    }
  },
  "cells": [
    {
      "cell_type": "code",
      "execution_count": null,
      "metadata": {
        "id": "5RnGnFFl6Txr"
      },
      "outputs": [],
      "source": [
        "if __name__ == '__main__':\n",
        "    \n",
        "    n = int(input())\n",
        "    \n",
        "    if(n%2!=0):\n",
        "        print(\"Weird\")\n",
        "        \n",
        "    elif(n%2==0 & 2<=n<=5):\n",
        "        print(\"Not Weird\")\n",
        "        \n",
        "    elif(n%2==0 & 6<=n<=20):\n",
        "        print(\"Weird\")\n",
        "        \n",
        "    elif(n%2==0 & 20<n):\n",
        "        print(\"Not Weird\")"
      ]
    }
  ]
}
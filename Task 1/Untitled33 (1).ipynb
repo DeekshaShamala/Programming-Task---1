{
  "nbformat": 4,
  "nbformat_minor": 0,
  "metadata": {
    "colab": {
      "provenance": []
    },
    "kernelspec": {
      "name": "python3",
      "display_name": "Python 3"
    },
    "language_info": {
      "name": "python"
    }
  },
  "cells": [
    {
      "cell_type": "code",
      "execution_count": null,
      "metadata": {
        "id": "bu2jTKd0Wxql"
      },
      "outputs": [],
      "source": [
        "def is_leap(year):\n",
        "    leap = False\n",
        "    \n",
        "    # Write your logic here\n",
        "    \n",
        "    return leap\n",
        "\n",
        "year = int(input())\n",
        "print(is_leap(year))"
      ]
    }
  ]
}